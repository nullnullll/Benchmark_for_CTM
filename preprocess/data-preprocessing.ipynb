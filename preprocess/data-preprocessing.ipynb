{
 "cells": [
  {
   "cell_type": "markdown",
   "metadata": {},
   "source": [
    "# MIMIC3 data preprocessing\n",
    "\n",
    "Note: \n",
    "Part of this script is modified upon [MIMIC-Extract](https://github.com/MLforHealth/MIMIC_Extract) and [IP-Nets](https://github.com/mlds-lab/interp-net)."
   ]
  },
  {
   "cell_type": "code",
   "execution_count": 4,
   "metadata": {},
   "outputs": [
    {
     "ename": "ModuleNotFoundError",
     "evalue": "No module named 'tables'",
     "output_type": "error",
     "traceback": [
      "\u001b[0;31m---------------------------------------------------------------------------\u001b[0m",
      "\u001b[0;31mModuleNotFoundError\u001b[0m                       Traceback (most recent call last)",
      "\u001b[0;32m<ipython-input-4-9dcc0aef37f8>\u001b[0m in \u001b[0;36m<module>\u001b[0;34m\u001b[0m\n\u001b[1;32m     13\u001b[0m \u001b[0;32mimport\u001b[0m \u001b[0msys\u001b[0m\u001b[0;34m\u001b[0m\u001b[0;34m\u001b[0m\u001b[0m\n\u001b[1;32m     14\u001b[0m \u001b[0;32mimport\u001b[0m \u001b[0mmath\u001b[0m\u001b[0;34m\u001b[0m\u001b[0;34m\u001b[0m\u001b[0m\n\u001b[0;32m---> 15\u001b[0;31m \u001b[0;32mimport\u001b[0m \u001b[0mtables\u001b[0m\u001b[0;34m\u001b[0m\u001b[0;34m\u001b[0m\u001b[0m\n\u001b[0m\u001b[1;32m     16\u001b[0m \u001b[0;34m\u001b[0m\u001b[0m\n\u001b[1;32m     17\u001b[0m \u001b[0;32mfrom\u001b[0m \u001b[0mmatplotlib\u001b[0m \u001b[0;32mimport\u001b[0m \u001b[0mpyplot\u001b[0m \u001b[0;32mas\u001b[0m \u001b[0mplt\u001b[0m\u001b[0;34m\u001b[0m\u001b[0;34m\u001b[0m\u001b[0m\n",
      "\u001b[0;31mModuleNotFoundError\u001b[0m: No module named 'tables'"
     ]
    }
   ],
   "source": [
    "import pickle\n",
    "import psycopg2 as py\n",
    "import copy\n",
    "import numpy as np\n",
    "import torch\n",
    "import os\n",
    "import argparse\n",
    "import pandas as pd\n",
    "from datetime import datetime\n",
    "import random\n",
    "random.seed(49297)\n",
    "from tqdm import tqdm, trange\n",
    "import sys\n",
    "import math\n",
    "import tables\n",
    "\n",
    "from matplotlib import pyplot as plt\n",
    "from matplotlib.pyplot import MultipleLocator\n",
    "import matplotlib.dates as mdates\n",
    "import pickle \n",
    "\n",
    "from sklearn.model_selection import train_test_split\n",
    "from sklearn.metrics import roc_auc_score\n",
    "from sklearn.metrics import log_loss\n",
    "from sklearn.metrics import accuracy_score\n",
    "from sklearn.metrics import f1_score\n",
    "from sklearn.metrics import average_precision_score\n",
    "from sklearn.linear_model import LogisticRegression\n",
    "from sklearn.preprocessing import label_binarize\n",
    "from sklearn.ensemble import RandomForestClassifier\n",
    "import scipy.stats as ss\n"
   ]
  },
  {
   "cell_type": "code",
   "execution_count": 34,
   "metadata": {},
   "outputs": [],
   "source": [
    "conn = py.connect(\n",
    "    \"dbname = 'mimic3' user = 'user_name' host = 'localhost' password = 'password' options='-c search_path=dataset_name' \")\n",
    "\n",
    "cur = conn.cursor()\n",
    "# load icu stay\n",
    "cur.execute(\"select hadm_id, icustay_id, intime, outtime, los from icustays\")\n",
    "icustays = cur.fetchall()\n",
    "\n",
    "# load subject2hadm\n",
    "cur.execute(\"select  subject_id, hadm_id from admissions\")\n",
    "subject2hadm = cur.fetchall()"
   ]
  },
  {
   "cell_type": "code",
   "execution_count": 35,
   "metadata": {},
   "outputs": [
    {
     "name": "stdout",
     "output_type": "stream",
     "text": [
      "58976\n",
      "58976\n"
     ]
    }
   ],
   "source": [
    "# subj2adm dict\n",
    "adm2subj_dict = {}\n",
    "\n",
    "for subject_id, hadm_id in subject2hadm:\n",
    "    if hadm_id not in adm2subj_dict:\n",
    "        adm2subj_dict.update({hadm_id:subject_id})\n",
    "    else:\n",
    "        print(\"admid: \", str(hadm_id), \"subject:\", adm2subj_dict[hadm_id], subject_id)\n",
    "        continue\n",
    "\n",
    "\n",
    "print(len(subject2hadm))\n",
    "print(len(adm2subj_dict))"
   ]
  },
  {
   "cell_type": "code",
   "execution_count": 36,
   "metadata": {},
   "outputs": [
    {
     "data": {
      "text/plain": [
       "61532"
      ]
     },
     "execution_count": 36,
     "metadata": {},
     "output_type": "execute_result"
    }
   ],
   "source": [
    "# adm2icu dict\n",
    "icu_dict = {}\n",
    "los_dict = {}\n",
    "\n",
    "for hadm_id, icustay_id, intime, outtime, los in icustays:\n",
    "    if hadm_id not in icu_dict:\n",
    "        icu_dict.update({hadm_id:{icustay_id:[intime, outtime]}})\n",
    "        los_dict.update({str(hadm_id)+'_'+str(icustay_id) : los})\n",
    "    elif icustay_id not in icu_dict[hadm_id]:\n",
    "        icu_dict[hadm_id].update({icustay_id:[intime, outtime]})\n",
    "        los_dict.update({str(hadm_id)+'_'+str(icustay_id): los})\n",
    "    else:\n",
    "        continue\n",
    "\n",
    "\n",
    "len(icu_dict)\n",
    "len(los_dict)"
   ]
  },
  {
   "cell_type": "code",
   "execution_count": 37,
   "metadata": {},
   "outputs": [
    {
     "name": "stdout",
     "output_type": "stream",
     "text": [
      "58976\n",
      "58976\n"
     ]
    }
   ],
   "source": [
    "adm2deathtime_dict = {}\n",
    "\n",
    "# death time\n",
    "cur.execute(\"\"\"select hadm_id, deathtime from admissions \"\"\")\n",
    "deathtimes = cur.fetchall()\n",
    "\n",
    "print(len(deathtimes))\n",
    "\n",
    "for hadm_id, deathtime in deathtimes:\n",
    "    if hadm_id not in adm2deathtime_dict:\n",
    "        adm2deathtime_dict.update({hadm_id:deathtime})\n",
    "\n",
    "print(len(adm2deathtime_dict))"
   ]
  },
  {
   "cell_type": "markdown",
   "metadata": {},
   "source": [
    "##  Load data"
   ]
  },
  {
   "cell_type": "code",
   "execution_count": null,
   "metadata": {
    "collapsed": false,
    "pycharm": {
     "name": "#%%\n"
    }
   },
   "outputs": [],
   "source": [
    "\n",
    "min_time_period = 48\n",
    "\n",
    "def load_adm_data(data_path):\n",
    "    print('Loading files ...')\n",
    "    adm_info = pickle.load(\n",
    "            open(data_path, 'rb'))\n",
    "\n",
    "    adm_id_needed = [record[0] for record in adm_info if record[2] >= min_time_period]\n",
    "\n",
    "\n",
    "    print('Loading Done!')\n",
    "    print(len(adm_info))\n",
    "    return adm_info, adm_id_needed\n",
    "\n",
    "\n",
    "adm_id_data_path = \"path/to/adm_type_los_mortality.p\"\n",
    "adm_info, adm_id_needed = load_adm_data(adm_id_data_path)\n"
   ]
  },
  {
   "cell_type": "code",
   "execution_count": 39,
   "metadata": {},
   "outputs": [
    {
     "name": "stdout",
     "output_type": "stream",
     "text": [
      "Loading files ...\n",
      "Loading Done!\n"
     ]
    }
   ],
   "source": [
    "# load biomarkers and events\n",
    "def load_data(data_path, adm_info, adm_id_needed=None):\n",
    "   \n",
    "    print('Loading files ...')\n",
    "    vitals = pickle.load(open(data_path, 'rb'))\n",
    "    print('Loading Done!')\n",
    "    \n",
    "    adm_id = [record[0] for record in adm_info]\n",
    "    \n",
    "    if adm_id_needed is None:\n",
    "        adm_id_needed = [record[0] for record in adm_info if record[2] >= min_time_period]\n",
    "\n",
    "\n",
    "    vitals_dict = {}\n",
    "    for i in range(len(adm_id)):\n",
    "        vitals_dict[adm_id[i]] = vitals[i]\n",
    "\n",
    "    vitals = [vitals_dict[x] for x in adm_id_needed]\n",
    "    label = [rec[3] for x in adm_id_needed for rec in adm_info if x == rec[0]]\n",
    "    \n",
    "    return vitals, label\n",
    "\n",
    "\n",
    "bio_path = \"path/to/patient_records.p\"\n",
    "vitals, label = load_data(bio_path, adm_info, adm_id_needed=adm_id_needed)\n"
   ]
  },
  {
   "cell_type": "markdown",
   "metadata": {},
   "source": [
    "## Feature selection"
   ]
  },
  {
   "cell_type": "code",
   "execution_count": 42,
   "metadata": {},
   "outputs": [
    {
     "name": "stdout",
     "output_type": "stream",
     "text": [
      "pre-proc done\n",
      "23\n"
     ]
    }
   ],
   "source": [
    "def select_features(data):\n",
    "    for i in range(len(data)):\n",
    "        for elem in data[i][7]:\n",
    "            if elem[1] != None:\n",
    "                # Fahrenheit->Celcius conversion\n",
    "                tup = (elem[0], elem[1] * 1.8 + 32)\n",
    "                data[i][6].append(tup)\n",
    "\n",
    "        for elem in data[i][10]:\n",
    "            data[i][9].append(elem)\n",
    "        for elem in data[i][11]:\n",
    "            data[i][9].append(elem)\n",
    "\n",
    "\n",
    "        # removing duplicates and EtCO2\n",
    "        del data[i][5]\n",
    "        del data[i][6]\n",
    "        del data[i][8]\n",
    "        del data[i][8]\n",
    "\n",
    "        for j in range(len(data[i][-1])):\n",
    "            data[i][-1][j] = (data[i][-1][j][0], 1)\n",
    "\n",
    "        for j in range(len(data[i][-2])):\n",
    "            data[i][-2][j] = (data[i][-2][j][0], 1)\n",
    "\n",
    "        del data[i][14]\n",
    "        del data[i][18]\n",
    "    \n",
    "    print(\"pre-proc done\")\n",
    "\n",
    "\n",
    "select_features(vitals)\n",
    "print(len(vitals[0]))"
   ]
  },
  {
   "cell_type": "markdown",
   "metadata": {},
   "source": [
    "## Dataset building"
   ]
  },
  {
   "cell_type": "markdown",
   "metadata": {},
   "source": [
    "### Data shuffling (Optional)"
   ]
  },
  {
   "cell_type": "code",
   "execution_count": 44,
   "metadata": {},
   "outputs": [
    {
     "name": "stdout",
     "output_type": "stream",
     "text": [
      "shuffling done\n"
     ]
    }
   ],
   "source": [
    "tmp_data = list(zip(vitals, adm_id_needed, label))\n",
    "\n",
    "random.shuffle(tmp_data)\n",
    "\n",
    "rd_vitals = [i[0] for i in tmp_data]\n",
    "rd_adm_id_needed = [i[1] for i in tmp_data]\n",
    "rd_label = [i[2] for i in tmp_data]\n",
    "\n",
    "vitals, adm_id_needed, label = rd_vitals, rd_adm_id_needed, rd_label\n",
    "\n",
    "print(\"shuffling done\")\n"
   ]
  },
  {
   "cell_type": "markdown",
   "metadata": {
    "collapsed": false
   },
   "source": [
    "### In-Hospital Mortality"
   ]
  },
  {
   "cell_type": "code",
   "execution_count": null,
   "metadata": {
    "collapsed": false,
    "pycharm": {
     "name": "#%%\n"
    }
   },
   "outputs": [],
   "source": [
    "mor_adm_icu_id, mor_data, mor_label = adm_id_needed, vitals, label"
   ]
  },
  {
   "cell_type": "markdown",
   "metadata": {},
   "source": [
    "### Clinical Intervention Prediction\n",
    "- Predict intervention onset/offset within a 4h prediction window offset from the input window by a 6h gap window.\n",
    "- Four possible outcomes: Onset / Stay On / Wean / Stay Off\n"
   ]
  },
  {
   "cell_type": "code",
   "execution_count": 5,
   "metadata": {},
   "outputs": [],
   "source": [
    "# Please obtain this file from https://github.com/MLforHealth/MIMIC_Extract\n",
    "DATAFILE = '/home/covpreduser/Blob/v-xiaosong/dataset/mimicextract/all_hourly_data.h5'\n",
    "\n",
    "Y = pd.read_hdf(DATAFILE,'interventions')\n",
    "Y = Y[['vent', 'vaso']]"
   ]
  },
  {
   "cell_type": "code",
   "execution_count": 7,
   "metadata": {},
   "outputs": [
    {
     "data": {
      "text/plain": [
       "2200954"
      ]
     },
     "execution_count": 7,
     "metadata": {},
     "output_type": "execute_result"
    }
   ],
   "source": [
    "len(Y)"
   ]
  },
  {
   "cell_type": "code",
   "execution_count": 47,
   "metadata": {},
   "outputs": [
    {
     "name": "stderr",
     "output_type": "stream",
     "text": [
      "100%|██████████| 1817/1817 [08:55<00:00,  3.40it/s] "
     ]
    },
    {
     "name": "stdout",
     "output_type": "stream",
     "text": [
      "Number of created samples: 8784 8784 8784\n",
      "Number of features: 23\n",
      "8784 8784 8784\n"
     ]
    },
    {
     "name": "stderr",
     "output_type": "stream",
     "text": [
      "\n"
     ]
    }
   ],
   "source": [
    "\n",
    "CHUNK_KEY = {'ONSET': 0, 'CONTROL': 1, 'ON_INTERVENTION': 2, 'WEAN': 3}\n",
    "def create_interv_pred(data, adm_ids, interv, sample_rate=6, observ_win=6, eps=1e-6, future_time_interval=4, gap_win=6, start=0, end=10000, need_sample=-1):\n",
    "    adm_icu_id = []\n",
    "    ip_data = []\n",
    "    vent_labels = []\n",
    "    vaso_labels = []\n",
    "\n",
    "    # go through icu stays\n",
    "    for i in trange(start, end):\n",
    "        if need_sample != -1 and len(ip_data) > need_sample:\n",
    "            break\n",
    "\n",
    "        adm_data = data[i] # (23 * T_feature)\n",
    "        if adm_ids[i] not in icu_dict:\n",
    "            continue\n",
    "        for icustay_id in icu_dict[adm_ids[i]]:\n",
    "            icu_data = []\n",
    "            if pd.isnull(los_dict[str(adm_ids[i])+'_'+str(icustay_id)]):\n",
    "                continue\n",
    "\n",
    "            adm_index = (adm2subj_dict[adm_ids[i]], adm_ids[i], icustay_id)\n",
    "            \n",
    "\n",
    "            los = 24.0 * los_dict[str(adm_ids[i])+'_'+str(icustay_id)]  # in hours\n",
    "\n",
    "            deathtime = adm2deathtime_dict[adm_ids[i]]\n",
    "            intime = icu_dict[adm_ids[i]][icustay_id][0]\n",
    "            outtime = icu_dict[adm_ids[i]][icustay_id][1]\n",
    "\n",
    "            if deathtime is None:\n",
    "                lived_time = (outtime - intime).total_seconds() / 3600.0\n",
    "            else:\n",
    "                lived_time = (deathtime - intime).total_seconds() / 3600.0\n",
    "\n",
    "            # select data within icu stay\n",
    "            for k in range(len(adm_data)):\n",
    "                kth_feature = []\n",
    "                for t, value in adm_data[k]:\n",
    "                    if intime < t < outtime:\n",
    "\n",
    "                        kth_feature.append((t, value))\n",
    "\n",
    "                icu_data.append(kth_feature)\n",
    "\n",
    "\n",
    "            sample_times = np.arange(0.0, min(los, lived_time) + eps, sample_rate) # (采样起点，终点，步长)\n",
    "\n",
    "            # start point of observation\n",
    "            sample_times = list(filter(lambda x: x < (min(los, lived_time) - observ_win), sample_times))\n",
    "\n",
    "\n",
    "            for t in sample_times:\n",
    "                sample_data = []\n",
    "                \n",
    "                \n",
    "                # get data\n",
    "                for feature in range(len(icu_data)):\n",
    "                    f = []\n",
    "                    for ft,val in icu_data[feature]:\n",
    "                        if t <= (ft - intime).total_seconds() / 3600.0 < t + observ_win:\n",
    "                            f.append((ft, val))\n",
    "                    sample_data.append(f)\n",
    "\n",
    "                vent_label = cal_label(interv['vent'], adm_index, int(t), observ_win, gap_win, future_time_interval)\n",
    "                vaso_label = cal_label(interv['vaso'], adm_index, int(t), observ_win, gap_win, future_time_interval)\n",
    "\n",
    "                if vent_label is not None and vaso_label is not None:\n",
    "                    adm_icu_id.append(adm_index)\n",
    "                    ip_data.append(sample_data)\n",
    "                    vent_labels.append(vent_label) \n",
    "                    vaso_labels.append(vaso_label) \n",
    "\n",
    "    print(\"Number of created samples:\", len(ip_data), len(adm_icu_id), len(vent_labels))\n",
    "    print(\"Number of features:\", len(ip_data[0]))\n",
    "    return adm_icu_id, ip_data, vent_labels, vaso_labels\n",
    "\n",
    "def cal_label(interv, adm_index, t, observ_win, gap_win, future_time_interval):\n",
    "    if adm_index not in interv:\n",
    "        return None\n",
    "        \n",
    "    y_patient = interv[adm_index].values\n",
    "\n",
    "    result_window = y_patient[t+observ_win+gap_win : t+observ_win+gap_win+future_time_interval]\n",
    "\n",
    "    result_window_diff = set(np.diff(result_window))\n",
    "    gap_window = y_patient[t+observ_win:t+observ_win+gap_win]\n",
    "    gap_window_diff = set(np.diff(gap_window))\n",
    "\n",
    "\n",
    "    if 1 in gap_window_diff or -1 in gap_window_diff:\n",
    "        result = None\n",
    "    elif (len(result_window_diff) == 1) and (0 in result_window_diff) and (max(result_window) == 0):\n",
    "        result = CHUNK_KEY['CONTROL']\n",
    "    elif (len(result_window_diff) == 1) and (0 in result_window_diff) and (max(result_window) == 1):\n",
    "        result = CHUNK_KEY['ON_INTERVENTION']\n",
    "    elif 1 in result_window_diff: \n",
    "        result = CHUNK_KEY['ONSET']\n",
    "    elif -1 in result_window_diff:\n",
    "        result = CHUNK_KEY['WEAN']\n",
    "    else:\n",
    "        result = None\n",
    "\n",
    "    return result\n",
    "\n",
    "\n",
    "cip_adm_icu_id, cip_data, vent_labels, vaso_labels = create_interv_pred(vitals, adm_id_needed, Y, sample_rate=6, observ_win=6, eps=1e-6, future_time_interval=4, gap_win=6, start=0, end=len(adm_id_needed), need_sample=-1)\n",
    "print(len(cip_adm_icu_id), len(vent_labels), len(vent_labels))\n"
   ]
  },
  {
   "cell_type": "markdown",
   "metadata": {},
   "source": [
    "#### Statistics"
   ]
  },
  {
   "cell_type": "code",
   "execution_count": 48,
   "metadata": {},
   "outputs": [
    {
     "data": {
      "image/png": "[encoded data removed]",
      "text/plain": [
       "<Figure size 432x288 with 1 Axes>"
      ]
     },
     "metadata": {
      "needs_background": "light"
     },
     "output_type": "display_data"
    }
   ],
   "source": [
    "def cal_interv_freq(vent_label, vaso_label):\n",
    "    \n",
    "    num_classes = 4\n",
    "    np_vent_label = np.eye(num_classes)[vent_label]\n",
    "    np_vaso_label = np.eye(num_classes)[vaso_label]\n",
    "\n",
    "    total = len(vent_label)\n",
    "    freq_vent = np.sum(np_vent_label,axis=0)\n",
    "    freq_vaso = np.sum(np_vaso_label,axis=0)\n",
    "\n",
    "    x = np.arange(4)\n",
    "    width = 0.25\n",
    "    plt.bar(x - width/2, freq_vent / total, width, label='vent')\n",
    "    plt.bar(x + width/2, freq_vaso / total, width, label='vaso')\n",
    "    #plt.bar_label(x + width/2, freq_vaso / total, width, label='vaso', label_type='edge')\n",
    "\n",
    "    plt.xticks(x, labels=['ONSET','CONTROL','ON_INTERVENTION','WEAN'])\n",
    "    plt.legend()\n",
    "\n",
    "    #plt.title('2 datasets')\n",
    "    plt.xlabel(\"Interv\")\n",
    "    plt.ylabel(\"freq / total\")\n",
    "    plt.show()\n",
    "\n",
    "\n",
    "cal_interv_freq(vent_labels, vaso_labels)"
   ]
  },
  {
   "cell_type": "markdown",
   "metadata": {},
   "source": [
    "### Next Timepoint Will be Measured (WBM)\n",
    "\n",
    "Predict which labs & vitals will be measured in the next hour via multi-label binary classification.\n"
   ]
  },
  {
   "cell_type": "code",
   "execution_count": 49,
   "metadata": {},
   "outputs": [
    {
     "name": "stderr",
     "output_type": "stream",
     "text": [
      "100%|██████████| 1817/1817 [01:16<00:00, 23.63it/s]"
     ]
    },
    {
     "name": "stdout",
     "output_type": "stream",
     "text": [
      "Number of created samples: 18382 18382 18382\n",
      "Number of features: 23\n"
     ]
    },
    {
     "name": "stderr",
     "output_type": "stream",
     "text": [
      "\n"
     ]
    }
   ],
   "source": [
    "def create_wbm(data, adm_ids, sample_rate=1.0, observ_win=4.0, eps=1e-6, future_time_interval=1.0, start=0, end=10000, need_sample=-1):\n",
    "    adm_icu_id = []\n",
    "    wbm_data = []\n",
    "    wbm_label = []\n",
    "\n",
    "    # go through icu stays\n",
    "    for i in trange(start, end):\n",
    "        if need_sample != -1 and len(wbm_data) > need_sample:\n",
    "            break\n",
    "\n",
    "        adm_data = data[i] # (23 * T_feature)\n",
    "        if adm_ids[i] not in icu_dict:\n",
    "            continue\n",
    "        for icustay_id in icu_dict[adm_ids[i]]:\n",
    "            icu_data = []\n",
    "\n",
    "\n",
    "            if pd.isnull(los_dict[str(adm_ids[i])+'_'+str(icustay_id)]):\n",
    "                continue\n",
    "\n",
    "            los = 24.0 * los_dict[str(adm_ids[i])+'_'+str(icustay_id)]  # in hours\n",
    "\n",
    "            deathtime = adm2deathtime_dict[adm_ids[i]]\n",
    "            intime = icu_dict[adm_ids[i]][icustay_id][0]\n",
    "            outtime = icu_dict[adm_ids[i]][icustay_id][1]\n",
    "\n",
    "            if deathtime is None:\n",
    "                lived_time = (outtime - intime).total_seconds() / 3600.0\n",
    "            else:\n",
    "                lived_time = (deathtime - intime).total_seconds() / 3600.0\n",
    "\n",
    "            # select data within icu stay\n",
    "            for k in range(len(adm_data)):\n",
    "                kth_feature = []\n",
    "                for t, value in adm_data[k]:\n",
    "                    if intime < t < outtime:\n",
    "\n",
    "                        kth_feature.append((t, value))\n",
    "\n",
    "                icu_data.append(kth_feature)\n",
    "\n",
    "\n",
    "            sample_times = np.arange(0.0, min(los, lived_time) + eps, sample_rate) \n",
    "\n",
    "            # start point of observation\n",
    "            sample_times = list(filter(lambda x: x < (min(los, lived_time) - observ_win), sample_times))\n",
    "\n",
    "\n",
    "            for t in sample_times:\n",
    "                sample_data = []\n",
    "                vital_label = [0]*12\n",
    "                # get data\n",
    "                for feature in range(len(icu_data)):\n",
    "                    f = []\n",
    "                    for ft,val in icu_data[feature]:\n",
    "                        if t <= (ft - intime).total_seconds() / 3600.0 < t + observ_win:\n",
    "                            f.append((ft, val))\n",
    "                        \n",
    "                        if feature < 12 and (t + observ_win) <= (ft - intime).total_seconds() / 3600.0 < (t + observ_win + future_time_interval):\n",
    "                            vital_label[feature] = 1\n",
    "\n",
    "                    sample_data.append(f)\n",
    "\n",
    "                adm_icu_id.append((adm2subj_dict[adm_ids[i]], adm_ids[i], icustay_id))\n",
    "                wbm_data.append(sample_data)\n",
    "                wbm_label.append(vital_label) \n",
    "\n",
    "    print(\"Number of created samples:\", len(wbm_data), len(adm_icu_id), len(wbm_label))\n",
    "    print(\"Number of features:\", len(wbm_data[0]))\n",
    "    return adm_icu_id, wbm_data, wbm_label\n",
    "\n",
    "wbm_adm_icu_id, wbm_data, wbm_label = create_wbm(vitals, adm_id_needed, sample_rate=12.0, observ_win=48.0, eps=1e-6, future_time_interval=1.0, start=0, end=len(adm_id_needed), need_sample=-1)\n"
   ]
  },
  {
   "cell_type": "markdown",
   "metadata": {},
   "source": [
    "#### Statistics"
   ]
  },
  {
   "cell_type": "code",
   "execution_count": 50,
   "metadata": {},
   "outputs": [
    {
     "data": {
      "image/png": "[encoded data removed]",
      "text/plain": [
       "<Figure size 432x288 with 1 Axes>"
      ]
     },
     "metadata": {
      "needs_background": "light"
     },
     "output_type": "display_data"
    }
   ],
   "source": [
    "def cal_vital_freq(vital_label):\n",
    "    np_vital_label = np.array(vital_label)\n",
    "    total = len(vital_label)\n",
    "    freq = np.sum(np_vital_label,axis=0)\n",
    "\n",
    "    x = np.arange(12)\n",
    "    plt.bar(x, freq/total) \n",
    "    plt.xlabel(\"vital\")\n",
    "    plt.ylabel(\"freq / total\")\n",
    "    plt.show()\n",
    "\n",
    "cal_vital_freq(wbm_label)"
   ]
  },
  {
   "cell_type": "markdown",
   "metadata": {},
   "source": [
    "### Decompensation"
   ]
  },
  {
   "cell_type": "code",
   "execution_count": 52,
   "metadata": {},
   "outputs": [
    {
     "name": "stderr",
     "output_type": "stream",
     "text": [
      "100%|██████████| 1817/1817 [00:15<00:00, 119.36it/s]"
     ]
    },
    {
     "name": "stdout",
     "output_type": "stream",
     "text": [
      "Number of created samples: 6267 6267 6267\n",
      "Number of features: 23\n"
     ]
    },
    {
     "name": "stderr",
     "output_type": "stream",
     "text": [
      "\n"
     ]
    }
   ],
   "source": [
    "# decompensation\n",
    "import sys\n",
    "def create_decompensation(data, adm_ids, label, sample_rate=1.0, shortest_length=4.0, eps=1e-6, future_time_interval=24.0, start=0, end=10000, need_sample=-1):\n",
    "    adm_icu_id = []\n",
    "    decom_data = []\n",
    "    decom_label = []\n",
    "\n",
    "    for i in trange(start, end):\n",
    "        if need_sample != -1 and len(decom_data) > need_sample:\n",
    "            break\n",
    "\n",
    "        mortality = label[i]\n",
    "\n",
    "        # filter\n",
    "        if mortality < 1:\n",
    "            continue\n",
    "\n",
    "        adm_data = data[i] # (23 * T_feature)\n",
    "        if adm_ids[i] not in icu_dict:\n",
    "            continue\n",
    "        for icustay_id in icu_dict[adm_ids[i]]:\n",
    "            icu_data = []\n",
    "            # empty label\n",
    "            if label[i] is None:\n",
    "                continue\n",
    "\n",
    "            if pd.isnull(los_dict[str(adm_ids[i])+'_'+str(icustay_id)]):\n",
    "                #print(\"(length of stay is missing)\", adm_ids[i], icustay_id)\n",
    "                continue\n",
    "\n",
    "            los = 24.0 * los_dict[str(adm_ids[i])+'_'+str(icustay_id)]  # in hours\n",
    "\n",
    "            deathtime = adm2deathtime_dict[adm_ids[i]]\n",
    "            intime = icu_dict[adm_ids[i]][icustay_id][0]\n",
    "            outtime = icu_dict[adm_ids[i]][icustay_id][1]\n",
    "\n",
    "            if deathtime is None:\n",
    "                lived_time = 1e18\n",
    "            else:\n",
    "                lived_time = (deathtime - intime).total_seconds() / 3600.0\n",
    "\n",
    "            for k in range(len(adm_data)):\n",
    "                kth_feature = []\n",
    "                for t, value in adm_data[k]:\n",
    "                    if intime < t < outtime:\n",
    "                        kth_feature.append((t, value))\n",
    "\n",
    "                icu_data.append(kth_feature)\n",
    "\n",
    "\n",
    "            sample_times = np.arange(0.0, min(los, lived_time) + eps, sample_rate) \n",
    "            sample_times = list(filter(lambda x: x > shortest_length, sample_times))\n",
    "\n",
    "            for t in sample_times:\n",
    "                sample_data = []\n",
    "\n",
    "                # get label\n",
    "                if mortality == 0:\n",
    "                    cur_mortality = 0\n",
    "                else:\n",
    "                    cur_mortality = int(lived_time - t < future_time_interval)\n",
    "\n",
    "                # get data\n",
    "                for feature in range(len(icu_data)):\n",
    "                    f = []\n",
    "                    for ft,val in icu_data[feature]:\n",
    "                        if t <= (ft - intime).total_seconds() / 3600.0 < t + shortest_length:\n",
    "                            f.append((ft, val))\n",
    "\n",
    "                    sample_data.append(f)\n",
    "\n",
    "                adm_icu_id.append((adm2subj_dict[adm_ids[i]], adm_ids[i], icustay_id))\n",
    "                decom_data.append(sample_data)\n",
    "                decom_label.append(cur_mortality) \n",
    "\n",
    "    print(\"Number of created samples:\", len(decom_data), len(adm_icu_id), len(decom_label))\n",
    "    print(\"Number of features:\", len(decom_data[0]))\n",
    "    return adm_icu_id, decom_data, decom_label\n",
    "  \n",
    "# all\n",
    "decom_adm_icu_id, decom_data, decom_label = create_decompensation(vitals, adm_id_needed, label, sample_rate=6.0, shortest_length=12.0, future_time_interval=24.0, start=0, end=len(adm_id_needed), need_sample=-1)\n"
   ]
  },
  {
   "cell_type": "code",
   "execution_count": null,
   "metadata": {},
   "outputs": [],
   "source": [
    "# calculate mortality\n",
    "print(sum(decom_label))\n",
    "print(len(decom_label))\n",
    "sum(decom_label) / len(decom_label)"
   ]
  },
  {
   "cell_type": "markdown",
   "metadata": {},
   "source": [
    "### Length of Stay Prediction"
   ]
  },
  {
   "cell_type": "code",
   "execution_count": 55,
   "metadata": {},
   "outputs": [
    {
     "name": "stderr",
     "output_type": "stream",
     "text": [
      "100%|██████████| 1817/1817 [00:39<00:00, 45.55it/s]\n"
     ]
    },
    {
     "name": "stdout",
     "output_type": "stream",
     "text": [
      "Number of created samples: 19761 19761 19761\n",
      "Number of features: 23\n"
     ]
    }
   ],
   "source": [
    "def number2cls(number):\n",
    "        \n",
    "    if number <= 7.0:\n",
    "        if number <= 0:\n",
    "            number = 1\n",
    "        return math.ceil(number)\n",
    "    elif 7 < number < 14:\n",
    "        return 8\n",
    "    else:\n",
    "        return 9\n",
    "\n",
    "def create_los(data, adm_ids, label, sample_rate=1.0, shortest_length=4.0, eps=1e-6, start=0, end=10000, need_sample=-1):\n",
    "    adm_icu_id = []\n",
    "    decom_data = []\n",
    "    decom_label = []\n",
    "\n",
    "    for i in trange(start, end):\n",
    "        if need_sample != -1 and len(decom_data) > need_sample:\n",
    "            break\n",
    "\n",
    "        adm_data = data[i] # (23 * T_feature)\n",
    "        if adm_ids[i] not in icu_dict:\n",
    "            continue\n",
    "        for icustay_id in icu_dict[adm_ids[i]]:\n",
    "            icu_data = []\n",
    "            # empty label\n",
    "            if label[i] is None:\n",
    "                continue\n",
    "\n",
    "            if pd.isnull(los_dict[str(adm_ids[i])+'_'+str(icustay_id)]):\n",
    "                #print(\"(length of stay is missing)\", adm_ids[i], icustay_id)\n",
    "                continue\n",
    "\n",
    "            los = 24.0 * los_dict[str(adm_ids[i])+'_'+str(icustay_id)]  # in hours\n",
    "\n",
    "\n",
    "            intime = icu_dict[adm_ids[i]][icustay_id][0]\n",
    "            outtime = icu_dict[adm_ids[i]][icustay_id][1]\n",
    "\n",
    "            for k in range(len(adm_data)):\n",
    "                kth_feature = []\n",
    "                for t, value in adm_data[k]:\n",
    "                    if intime < t < outtime:\n",
    "                        kth_feature.append((t, value))\n",
    "\n",
    "                icu_data.append(kth_feature)\n",
    "\n",
    "\n",
    "            sample_times = np.arange(0.0, los + eps, sample_rate) \n",
    "\n",
    "            sample_times = list(filter(lambda x: x > shortest_length, sample_times))\n",
    "\n",
    "            for t in sample_times:\n",
    "                sample_data = []\n",
    "\n",
    "                # get data\n",
    "                for feature in range(len(icu_data)):\n",
    "                    f = []\n",
    "                    for ft,val in icu_data[feature]:\n",
    "                        if t <= ((ft - intime).total_seconds() / 3600.0) < t + shortest_length:\n",
    "                            f.append((ft, val))\n",
    "\n",
    "                    sample_data.append(f)\n",
    "\n",
    "                cur_label = number2cls((los - t)/24)\n",
    "\n",
    "                adm_icu_id.append((adm2subj_dict[adm_ids[i]], adm_ids[i], icustay_id))\n",
    "                decom_data.append(sample_data)\n",
    "                decom_label.append(cur_label) \n",
    "\n",
    "    print(\"Number of created samples:\", len(decom_data), len(adm_icu_id), len(decom_label))\n",
    "    print(\"Number of features:\", len(decom_data[0]))\n",
    "    return adm_icu_id, decom_data, decom_label\n",
    "\n",
    "\n",
    "los_adm_icu_id, los_data, los_label = create_los(vitals, adm_id_needed, label, sample_rate=12, shortest_length=24, eps=1e-6, start=0, end=len(adm_id_needed), need_sample=-1)\n"
   ]
  },
  {
   "cell_type": "markdown",
   "metadata": {},
   "source": [
    "#### Statistics"
   ]
  },
  {
   "cell_type": "code",
   "execution_count": 58,
   "metadata": {},
   "outputs": [
    {
     "name": "stdout",
     "output_type": "stream",
     "text": [
      "{1: 2529, 2: 1879, 3: 1423, 4: 1134, 5: 964, 6: 811, 7: 699, 8: 3294, 9: 7028}\n",
      "{1: 0.12797935327159557, 2: 0.09508628105865088, 3: 0.07201052578310814, 4: 0.057385759829968117, 5: 0.04878295632812105, 6: 0.04104043317645868, 7: 0.0353727038105359, 8: 0.1666919690299074, 9: 0.3556500177116543}\n"
     ]
    },
    {
     "data": {
      "image/png": "[encoded data removed]",
      "text/plain": [
       "<Figure size 432x288 with 1 Axes>"
      ]
     },
     "metadata": {
      "needs_background": "light"
     },
     "output_type": "display_data"
    }
   ],
   "source": [
    "def statistics_los(los_label):\n",
    "    countDict = dict()\n",
    "    proportitionDict = dict()\n",
    "\n",
    "    for i in set(los_label):\n",
    "        countDict[i] = los_label.count(i)\n",
    "        proportitionDict[i] = los_label.count(i)/len(los_label)\n",
    "    \n",
    "    print(countDict)\n",
    "    print(proportitionDict)\n",
    "\n",
    "    count_list = [0]*9\n",
    "    for i in countDict:\n",
    "        count_list[i-1] = countDict[i]\n",
    "\n",
    "    x = np.arange(9)\n",
    "    plt.bar(x, count_list) \n",
    "    plt.xlabel(\"class\")\n",
    "    plt.ylabel(\"count\")\n",
    "    plt.show()\n",
    "\n",
    "\n",
    "\n",
    "statistics_los(los_label)\n"
   ]
  },
  {
   "cell_type": "markdown",
   "metadata": {},
   "source": [
    "## Build Time set"
   ]
  },
  {
   "cell_type": "code",
   "execution_count": null,
   "metadata": {
    "collapsed": false,
    "pycharm": {
     "name": "#%%\n"
    }
   },
   "outputs": [],
   "source": [
    "def trim_los(data, shortest_length=48):\n",
    "\n",
    "    num_features = 23  # final features (excluding EtCO2)\n",
    "    max_length = 2881  # maximum length of time stamp(48 * 60)\n",
    "    a = np.zeros((len(data), num_features, max_length))\n",
    "    timestamps = []\n",
    "    rawdata=[]\n",
    "    rawtimestamps = []\n",
    "\n",
    "\n",
    "    for i in range(len(data)):\n",
    "        l = []\n",
    "        # taking union of all time stamps,\n",
    "        # we don't actually need this for our model\n",
    "        for j in range(num_features):\n",
    "            for k in range(len(data[i][j])):\n",
    "                l.append(data[i][j][k][0])\n",
    "\n",
    "        # keeping only unique elements\n",
    "        TS = []\n",
    "        for j in l:\n",
    "            if j not in TS:\n",
    "                TS.append(j)\n",
    "        TS.sort()\n",
    "\n",
    "        temp = []\n",
    "        for t in TS:\n",
    "            if (t - TS[0]).total_seconds() / 3600 <= shortest_length:\n",
    "                temp.append(t)\n",
    "\n",
    "        # extracting first 48hr data\n",
    "        T = copy.deepcopy(TS)\n",
    "        TS = []\n",
    "        for t in T:\n",
    "            if (t - T[0]).total_seconds() / 3600 <= shortest_length:\n",
    "                TS.append(t)\n",
    "        T = []\n",
    "        timestamps.append(TS)\n",
    "        rawdata.append(data[i])\n",
    "        rawtimestamps.append(temp)\n",
    "\n",
    "        for j in range(num_features):\n",
    "            c = 0\n",
    "            for k in range(len(TS)):\n",
    "                if c < len(data[i][j]) and TS[k] == data[i][j][c][0]:\n",
    "                    if data[i][j][c][1] is None:\n",
    "                        a[i, j, k] = -100  # missing data\n",
    "                    elif (data[i][j][c][1] == 'Normal <3 secs' or\n",
    "                          data[i][j][c][1] == 'Normal <3 Seconds' or\n",
    "                          data[i][j][c][1] == 'Brisk'):\n",
    "                        a[i, j, k] = 1\n",
    "                    elif (data[i][j][c][1] == 'Abnormal >3 secs' or\n",
    "                          data[i][j][c][1] == 'Abnormal >3 Seconds' or\n",
    "                          data[i][j][c][1] == 'Delayed'):\n",
    "                        a[i, j, k] = 2\n",
    "                    elif (data[i][j][c][1] == 'Other/Remarks' or\n",
    "                          data[i][j][c][1] == 'Comment'):\n",
    "                        a[i, j, k] = -100  # missing data\n",
    "                    else:\n",
    "                        if (j == 21 or j == 22):\n",
    "                            a[i, j, k] = 1\n",
    "                        else:\n",
    "                            a[i, j, k] = data[i][j][c][1]\n",
    "\n",
    "                    c += 1\n",
    "                else:\n",
    "                    a[i, j, k] = -100  # missing data\n",
    "\n",
    "    print(\"feature extraction success\")\n",
    "    print(\"value processing success \")\n",
    "    return a, timestamps,rawdata, rawtimestamps"
   ]
  },
  {
   "cell_type": "markdown",
   "metadata": {},
   "source": [
    "## fix time format & generate mask"
   ]
  },
  {
   "cell_type": "code",
   "execution_count": null,
   "metadata": {
    "collapsed": false,
    "pycharm": {
     "name": "#%%\n"
    }
   },
   "outputs": [],
   "source": [
    "def fix_input_format(x, T):\n",
    "    \"\"\"Return the input in the proper format\n",
    "    x: observed values\n",
    "    M: masking, 0 indicates missing values\n",
    "    delta: time points of observation\n",
    "    \"\"\"\n",
    "    timestamp = 200\n",
    "    num_features = 23\n",
    "\n",
    "    # trim time stamps higher than 200\n",
    "    for i in range(len(T)):\n",
    "        if len(T[i]) > timestamp:\n",
    "            T[i] = T[i][:timestamp]\n",
    "\n",
    "    x = x[:, :, :timestamp]\n",
    "    M = np.zeros_like(x)\n",
    "    delta = np.zeros_like(x)\n",
    "    print(x.shape, len(T))\n",
    "\n",
    "    for t in T:\n",
    "        for i in range(1, len(t)):\n",
    "            t[i] = (t[i] - t[0]).total_seconds()/3600.0\n",
    "        if len(t) != 0:\n",
    "            t[0] = 0\n",
    "\n",
    "    # count outliers and negative values as missing values\n",
    "    # M = 0 indicates missing value\n",
    "    # M = 1 indicates observed value\n",
    "    # now since we have mask variable, we don't need -100\n",
    "\n",
    "    M[x > 500] = 0\n",
    "    x[x > 500] = 0.0\n",
    "    M[x < 0] = 0\n",
    "    x[x < 0] = 0.0\n",
    "    M[x > 0] = 1\n",
    "\n",
    "    for i in range(num_features):\n",
    "        for j in range(x.shape[0]):\n",
    "            for k in range(len(T[j])):\n",
    "                delta[j, i, k] = T[j][k]\n",
    "\n",
    "\n",
    "    return x, M, delta"
   ]
  },
  {
   "cell_type": "markdown",
   "metadata": {},
   "source": [
    "## Save"
   ]
  },
  {
   "cell_type": "code",
   "execution_count": 24,
   "metadata": {},
   "outputs": [],
   "source": [
    "def save_xy(in_x,in_m,in_T, label, save_path):\n",
    "    \n",
    "    x = np.concatenate((in_x,in_m,in_T) , axis=1)  # input format\n",
    "    y = np.array(label)\n",
    "    np.save(save_path + 'input.npy', x)\n",
    "    np.save(save_path + 'output.npy', y)\n",
    "    print(x.shape)\n",
    "    print(y.shape)\n",
    "\n",
    "    print(save_path, \" saved success\")\n",
    "\n",
    "def preproc_xy(adm_icu_id, data_x, data_y, shortest_length, dataset_name):\n",
    "\n",
    "    out_value, out_timestamps, out_rawdata, out_rawtimestamps = trim_los(data_x, shortest_length)\n",
    "\n",
    "    x, m, T = fix_input_format(out_value, out_timestamps)\n",
    "    print(\"timestamps format processing success\")\n",
    "    print(\"mask success\")\n",
    "\n",
    "    pickle.dump(adm_icu_id, open(dataset_name + 'sub_adm_icu_idx.p', 'wb'))\n",
    "    save_xy(x, m, T, data_y, dataset_name)"
   ]
  },
  {
   "cell_type": "code",
   "execution_count": 18,
   "metadata": {},
   "outputs": [],
   "source": [
    "def save_interv_xy(in_x,in_m,in_T, vent_label, vaso_label, save_path):\n",
    "    \n",
    "    x = np.concatenate((in_x,in_m,in_T) , axis=1)  # input format\n",
    "    vent_label = np.array(vent_label)\n",
    "    vaso_label = np.array(vaso_label)\n",
    "    np.save(save_path + 'input.npy', x)\n",
    "    np.save(save_path + 'vent_output.npy', vent_label)\n",
    "    np.save(save_path + 'vaso_output.npy', vaso_label)\n",
    "    print(x.shape)\n",
    "    print(vent_label.shape)\n",
    "    print(vaso_label.shape)\n",
    "\n",
    "    print(save_path, \" saved success\")\n",
    "\n",
    "def preproc_interv_xy(adm_icu_id, data_x, vent_label, vaso_label, shortest_length, dataset_name):\n",
    "\n",
    "    out_value, out_timestamps, out_rawdata, out_rawtimestamps = trim_los(data_x, shortest_length)\n",
    "\n",
    "    x, m, T = fix_input_format(out_value, out_timestamps)\n",
    "    print(\"timestamps format processing success\")\n",
    "    print(\"mask success\")\n",
    "\n",
    "    pickle.dump(adm_icu_id, open(dataset_name + 'sub_adm_icu_idx.p', 'wb'))\n",
    "    save_interv_xy(x, m, T, vent_label, vaso_label, dataset_name)\n"
   ]
  },
  {
   "cell_type": "code",
   "execution_count": null,
   "metadata": {
    "pycharm": {
     "name": "#%%\n"
    }
   },
   "outputs": [],
   "source": [
    "# In-Hospital Mortality\n",
    "preproc_xy(mor_adm_icu_id, mor_data, mor_label, 48, 'in_hospital_mortality/')\n",
    "\n",
    "# # Decompensation\n",
    "# preproc_xy(decom_adm_icu_id, decom_data, decom_label, 12, 'decom/')\n",
    "#\n",
    "# # Length of Stay\n",
    "# preproc_xy(los_adm_icu_id, los_data, los_label, 48, 'los/')\n",
    "#\n",
    "# # Next Timepoint Will be Measured\n",
    "# preproc_xy(wbm_adm_icu_id, wbm_data, wbm_label, 48, 'wbm/')\n",
    "#\n",
    "# # Clinical Intervention Prediction\n",
    "# preproc_interv_xy(cip_adm_icu_id, cip_data, vent_labels, vaso_labels, 48, 'cip/')"
   ]
  }
 ],
 "metadata": {
  "interpreter": {
   "hash": "2dbddb1129000b50d28c40c3f66db3474ef0041194105a22b204192fa254889b"
  },
  "kernelspec": {
   "display_name": "Python 3.7.9 64-bit ('py37_pytorch': conda)",
   "language": "python",
   "name": "python3"
  },
  "language_info": {
   "codemirror_mode": {
    "name": "ipython",
    "version": 3
   },
   "file_extension": ".py",
   "mimetype": "text/x-python",
   "name": "python",
   "nbconvert_exporter": "python",
   "pygments_lexer": "ipython3",
   "version": "3.7.9"
  },
  "orig_nbformat": 4
 },
 "nbformat": 4,
 "nbformat_minor": 2
}
